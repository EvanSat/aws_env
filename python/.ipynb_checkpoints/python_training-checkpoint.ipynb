{
 "cells": [
  {
   "cell_type": "code",
   "execution_count": 4,
   "id": "fa0b661a",
   "metadata": {},
   "outputs": [
    {
     "name": "stdout",
     "output_type": "stream",
     "text": [
      "[10, 20, 20, 34, 55, 90]\n"
     ]
    }
   ],
   "source": [
    "# sort the list writing logic\n",
    "lst = [10, 20, 34, 55, 20, 90]\n",
    "\n",
    "for i in range(len(lst) - 1):\n",
    "    for j in range(i, len(lst) - 1):\n",
    "        if lst[i] > lst[j + 1]:\n",
    "            lst[i], lst[j+1] = lst[j + 1], lst[i]\n",
    "print(lst)"
   ]
  },
  {
   "cell_type": "code",
   "execution_count": 5,
   "id": "619c4661",
   "metadata": {},
   "outputs": [
    {
     "name": "stdout",
     "output_type": "stream",
     "text": [
      "{'l': 2, ' ': 1, 'c': 1, 'h': 1, 'f': 1, 'm': 1, 'o': 2, 'b': 1, 't': 2, 'a': 2}\n"
     ]
    }
   ],
   "source": [
    "# create a dictionary where key is the character in s1 and value is the number of times the character is in s1\n",
    "dict2 = {}\n",
    "s1 = 'football match'\n",
    "\n",
    "s1_set = set(s1)\n",
    "for i in s1_set:\n",
    "    dict2[i] = s1.count(i)\n",
    "\n",
    "print(dict2)"
   ]
  },
  {
   "cell_type": "code",
   "execution_count": 17,
   "id": "e42b122e",
   "metadata": {},
   "outputs": [
    {
     "name": "stdout",
     "output_type": "stream",
     "text": [
      "Both strings have the same identity\n"
     ]
    }
   ],
   "source": [
    "# 1.How would you confirm that 2 strings have the same identity?\n",
    "str1 = 'test string'\n",
    "str2 = 'test string'\n",
    "\n",
    "if str1 == str2:\n",
    "    print(f'Both strings have the same identity')\n",
    "else:\n",
    "    print(f'Both string do not have the same identity')"
   ]
  },
  {
   "cell_type": "code",
   "execution_count": 27,
   "id": "2e455602",
   "metadata": {},
   "outputs": [
    {
     "name": "stdout",
     "output_type": "stream",
     "text": [
      "True\n",
      "False\n"
     ]
    }
   ],
   "source": [
    "# 2.How would you check if each word in a string begins with a capital letter?\n",
    "str1 = 'All The Words Begin In Capital Letters'\n",
    "str2 = 'Some Words begin In captial Letters'\n",
    "\n",
    "def capital_check(s):\n",
    "    words = s.split()\n",
    "    \n",
    "    for word in words:\n",
    "        if not word.istitle():\n",
    "            return False\n",
    "        \n",
    "    return True\n",
    "\n",
    "print(capital_check(str1))\n",
    "print(capital_check(str2))"
   ]
  },
  {
   "cell_type": "code",
   "execution_count": 30,
   "id": "ce7d380d",
   "metadata": {},
   "outputs": [
    {
     "name": "stdout",
     "output_type": "stream",
     "text": [
      "Inserting \"test string\" using f string\n"
     ]
    }
   ],
   "source": [
    "# 3.What is an f-string and how do you use it?\n",
    "# can be used to add variables directly into the string format\n",
    "\n",
    "str1 = 'test string'\n",
    "\n",
    "print(f'Inserting \\\"{str1}\\\" using f string')"
   ]
  },
  {
   "cell_type": "code",
   "execution_count": 3,
   "id": "6667b4fd",
   "metadata": {},
   "outputs": [
    {
     "name": "stdout",
     "output_type": "stream",
     "text": [
      "dlrow olleh\n"
     ]
    }
   ],
   "source": [
    "# 4.Reverse the string “hello world”.\n",
    "str1 = 'hello world'\n",
    "print(str1[::-1])"
   ]
  },
  {
   "cell_type": "code",
   "execution_count": 33,
   "id": "147d49e1",
   "metadata": {},
   "outputs": [
    {
     "name": "stdout",
     "output_type": "stream",
     "text": [
      "-1\n"
     ]
    }
   ],
   "source": [
    "# 5.Word location in String\n",
    "\n",
    "test_str = 'This is a random sentence written on Jupyter notebook'\n",
    "target_word = 'note4book'\n",
    "\n",
    "def find_word_loc(word, s):\n",
    "    try:\n",
    "        index = s.find(word)\n",
    "    except ValueError:\n",
    "        print('Word not found')\n",
    "    \n",
    "    return index     # returns -1 if word is not located in string, else it locates index\n",
    "\n",
    "print(find_word_loc(target_word, test_str))\n"
   ]
  },
  {
   "cell_type": "code",
   "execution_count": 12,
   "id": "daac1103",
   "metadata": {},
   "outputs": [
    {
     "name": "stdout",
     "output_type": "stream",
     "text": [
      "yes\n"
     ]
    }
   ],
   "source": [
    "# 6.Test if string is subset of another\n",
    "str1 = 'bowling'\n",
    "str2 = 'bowl'\n",
    "\n",
    "if str2 in str1:\n",
    "    print('yes')\n",
    "else:\n",
    "    print('no')"
   ]
  },
  {
   "cell_type": "code",
   "execution_count": 36,
   "id": "1540eca0",
   "metadata": {},
   "outputs": [
    {
     "name": "stdout",
     "output_type": "stream",
     "text": [
      "[9, 2, 3, 4, 5, 6, 7, 8, 1]\n"
     ]
    }
   ],
   "source": [
    "# 7.Python program to interchange first and last elements in a list\n",
    "l = [1, 2, 3, 4, 5, 6, 7, 8, 9]\n",
    "\n",
    "def swap_ends(lst: list):\n",
    "    if len(lst) < 2:\n",
    "        return lst\n",
    "    \n",
    "    start = lst[0]\n",
    "    end = lst[-1]\n",
    "    \n",
    "    #swaps\n",
    "    lst[0] = end\n",
    "    lst[-1] = start\n",
    "    \n",
    "    return lst\n",
    "\n",
    "print(swap_ends(l))\n"
   ]
  },
  {
   "cell_type": "code",
   "execution_count": 7,
   "id": "a484a313",
   "metadata": {},
   "outputs": [
    {
     "name": "stdout",
     "output_type": "stream",
     "text": [
      "[1, 2, 3, 4, 5, 9, 7, 8, 6]\n",
      "Index selection out of range\n",
      "-1\n"
     ]
    }
   ],
   "source": [
    "# 8.Python program to swap two elements in a list\n",
    "l = [1, 2, 3, 4, 5, 6, 7, 8, 9]\n",
    "\n",
    "def element_swap(lst: list, idx1: int, idx2):\n",
    "    index_range = len(lst) - 1\n",
    "    if abs(idx1) > index_range or abs(idx2) > index_range:\n",
    "        print('Index selection out of range')\n",
    "        return -1\n",
    "    \n",
    "    first = lst[idx1]\n",
    "    second = lst[idx2]\n",
    "    \n",
    "    #swap\n",
    "    lst[idx1] = second\n",
    "    lst[idx2] = first\n",
    "    \n",
    "    return l\n",
    "\n",
    "print(element_swap(l, 5, 8))\n",
    "print(element_swap(l, 1, 9))\n"
   ]
  },
  {
   "cell_type": "code",
   "execution_count": 46,
   "id": "b5d00595",
   "metadata": {},
   "outputs": [
    {
     "name": "stdout",
     "output_type": "stream",
     "text": [
      "Total positive numbers are: 5 | Total negative numbers are: 3\n"
     ]
    }
   ],
   "source": [
    "# 9.Python program to count positive and negative numbers in a list\n",
    "l = [-1, 5, 7, -9, 3, 8, 31, -14, 0]\n",
    "\n",
    "def count_neg_and_pos(l):\n",
    "    total_neg = 0\n",
    "    total_pos = 0\n",
    "    \n",
    "    for i in range(0, len(l)):\n",
    "        if l[i] == 0:\n",
    "            break\n",
    "        elif l[i] > 0:\n",
    "            total_pos += 1\n",
    "        else:\n",
    "            total_neg += 1\n",
    "    \n",
    "    print(f'Total positive numbers are: {total_pos} | Total negative numbers are: {total_neg}')\n",
    "    \n",
    "count_neg_and_pos(l)"
   ]
  },
  {
   "cell_type": "code",
   "execution_count": 9,
   "id": "e01b244b",
   "metadata": {},
   "outputs": [
    {
     "name": "stdout",
     "output_type": "stream",
     "text": [
      "[(1, 4, 5), (4, 7), 5]\n"
     ]
    }
   ],
   "source": [
    "# 10.Python Program to remove empty tuples from a list\n",
    "lst = [(1, 4, 5), (), (4, 7), (5), ()]\n",
    "\n",
    "def rmv_empty_ele(l: list):\n",
    "    result = [x for x in l if x]\n",
    "    return result\n",
    "\n",
    "print(rmv_empty_ele(lst))"
   ]
  },
  {
   "cell_type": "code",
   "execution_count": 10,
   "id": "d4f4f44e",
   "metadata": {},
   "outputs": [
    {
     "name": "stdout",
     "output_type": "stream",
     "text": [
      "[2, 9, 15]\n"
     ]
    }
   ],
   "source": [
    "# 11.Program to print duplicates from a list of integers\n",
    "lst = [1, 2, 2, 6, 7, 8, 9, 9, 10, 11, 15, 15]\n",
    "\n",
    "def print_dups(l: list):\n",
    "    exists = []\n",
    "    duplicates = []\n",
    "    for i in lst:\n",
    "        if i in exists:\n",
    "            duplicates.append(i)\n",
    "        else:\n",
    "            exists.append(i)\n",
    "    \n",
    "    print(duplicates)\n",
    "\n",
    "print_dups(lst)"
   ]
  },
  {
   "cell_type": "code",
   "execution_count": 13,
   "id": "1e67d150",
   "metadata": {},
   "outputs": [
    {
     "data": {
      "text/plain": [
       "9"
      ]
     },
     "execution_count": 13,
     "metadata": {},
     "output_type": "execute_result"
    }
   ],
   "source": [
    "# 12.Program to count unique values inside a list\n",
    "lst = [1, 2, 2, 6, 7, 8, 9, 9, 10, 11, 15, 15]\n",
    "\n",
    "def unique_vals(l: list):\n",
    "    l_set = set(l)\n",
    "    return len(l_set)\n",
    "\n",
    "unique_vals(lst)\n"
   ]
  },
  {
   "cell_type": "code",
   "execution_count": null,
   "id": "743ae8ab",
   "metadata": {},
   "outputs": [],
   "source": [
    "# 13.Python Program to Retain records with N occurrences of K | limit the number of occurances of a value\n",
    "# ex: if 2 exists in a list more than 4 times, we'll ignore any amount more than 4"
   ]
  },
  {
   "cell_type": "code",
   "execution_count": 25,
   "id": "23830472",
   "metadata": {},
   "outputs": [
    {
     "data": {
      "text/plain": [
       "4"
      ]
     },
     "execution_count": 25,
     "metadata": {},
     "output_type": "execute_result"
    }
   ],
   "source": [
    "# 14.Find the size of a Dictionary in Python\n",
    "\n",
    "d = {'Name': 'Michael Johnson', 'Age': 35, 'Gender': 'M', 'Country': 'Canada'}\n",
    "\n",
    "def dict_size(d: dict):\n",
    "    return len(d)\n",
    "\n",
    "dict_size(d)"
   ]
  },
  {
   "cell_type": "code",
   "execution_count": 24,
   "id": "3a6926e3",
   "metadata": {},
   "outputs": [
    {
     "name": "stdout",
     "output_type": "stream",
     "text": [
      "{'Ford': 9, 'GMC': 9, 'Kia': 18, 'Audi': 3, 'BMW': 11, 'Dodge': 4}\n"
     ]
    }
   ],
   "source": [
    "# 15.Python Program to Merge two Dictionaries\n",
    "\n",
    "d1 = {'Ford': 5, 'GMC': 9, 'Kia': 18, 'Audi': 3}\n",
    "d2 = {'BMW': 11, 'Ford': 9, 'Dodge': 4}\n",
    "\n",
    "def dict_merge(dict1: dict, dict2: dict):\n",
    "    return dict1 | dict2\n",
    "\n",
    "print(dict_merge(d1, d2))\n"
   ]
  },
  {
   "cell_type": "code",
   "execution_count": 29,
   "id": "1400c219",
   "metadata": {},
   "outputs": [
    {
     "name": "stdout",
     "output_type": "stream",
     "text": [
      "{1: 4, 2: 2, 5: 2, 6: 2, 8: 3, 9: 1}\n"
     ]
    }
   ],
   "source": [
    "# 16.Program to Group Similar items to Dictionary Values List\n",
    "lst = [1, 5, 2, 6, 8, 2, 1, 1, 1, 9, 6, 5, 8, 8]\n",
    "d = {}\n",
    "\n",
    "def group_to_dict(l: list, d: dict = {}):\n",
    "    for i in set(l):\n",
    "        d[i] = l.count(i)\n",
    "    print(d)\n",
    "    \n",
    "group_to_dict(lst, d)"
   ]
  },
  {
   "cell_type": "code",
   "execution_count": null,
   "id": "66c49cf2",
   "metadata": {},
   "outputs": [],
   "source": [
    "# 17.Program Extract values of Particular Key in Nested Values"
   ]
  },
  {
   "cell_type": "code",
   "execution_count": 14,
   "id": "01398f3e",
   "metadata": {},
   "outputs": [],
   "source": [
    "# 18.Program to Reverse Dictionary Keys Order"
   ]
  },
  {
   "cell_type": "code",
   "execution_count": null,
   "id": "ca3c04cf",
   "metadata": {},
   "outputs": [],
   "source": [
    "# 19.Program to Sort Nested keys by Value"
   ]
  },
  {
   "cell_type": "code",
   "execution_count": 6,
   "id": "6af4a357",
   "metadata": {},
   "outputs": [
    {
     "data": {
      "text/plain": [
       "True"
      ]
     },
     "execution_count": 6,
     "metadata": {},
     "output_type": "execute_result"
    }
   ],
   "source": [
    "# 20.Python program to check if a given number is an Armstrong number\n",
    "\n",
    "num = 153\n",
    "\n",
    "def is_armstrong_num(x:int):\n",
    "    x_sum = 0\n",
    "    x_str = str(x)\n",
    "    x_len = len(x_str)\n",
    "    \n",
    "    for i in str(x):\n",
    "        x_sum += int(i)**x_len\n",
    "    \n",
    "    return x == x_sum\n",
    "\n",
    "is_armstrong_num(num)"
   ]
  },
  {
   "cell_type": "code",
   "execution_count": null,
   "id": "cd6a0b5e",
   "metadata": {},
   "outputs": [],
   "source": [
    "# 21.Write a program in Python to display the Factorial of a number."
   ]
  },
  {
   "cell_type": "code",
   "execution_count": null,
   "id": "33b056e5",
   "metadata": {},
   "outputs": [],
   "source": [
    "# 22.Write a program in Python to reverse a word using loop."
   ]
  },
  {
   "cell_type": "code",
   "execution_count": null,
   "id": "4b963def",
   "metadata": {},
   "outputs": [],
   "source": [
    "# 23.Write a program to fetch only even values from a dictionary using loop."
   ]
  },
  {
   "cell_type": "code",
   "execution_count": null,
   "id": "b69ed7d7",
   "metadata": {},
   "outputs": [],
   "source": [
    "# 24.Python program to find the power of a number using recursion."
   ]
  },
  {
   "cell_type": "code",
   "execution_count": null,
   "id": "cc1440d2",
   "metadata": {},
   "outputs": [],
   "source": [
    "# 25.Write a program to print twin primes less than 1000. \n",
    "# If two consecutive odd numbers are both prime then they are known as twin primes"
   ]
  },
  {
   "cell_type": "code",
   "execution_count": 15,
   "id": "1c0000d6",
   "metadata": {},
   "outputs": [],
   "source": [
    "# 26.Write a function that inputs a number and returns the product of digits of that number."
   ]
  },
  {
   "cell_type": "code",
   "execution_count": null,
   "id": "8d4c0679",
   "metadata": {},
   "outputs": [],
   "source": [
    "# 27.Get last N elements from given list in Python"
   ]
  },
  {
   "cell_type": "code",
   "execution_count": null,
   "id": "c5dbe166",
   "metadata": {},
   "outputs": [],
   "source": [
    "# 28.Check if two given Strings are Isomorphic to each other"
   ]
  },
  {
   "cell_type": "code",
   "execution_count": null,
   "id": "b30393b3",
   "metadata": {},
   "outputs": [],
   "source": [
    "# 29.Python Program to Remove Consecutive K element records"
   ]
  },
  {
   "cell_type": "code",
   "execution_count": 47,
   "id": "bde652e3",
   "metadata": {},
   "outputs": [],
   "source": [
    "# 30.Python program to find the Strongest Neighbour"
   ]
  },
  {
   "cell_type": "code",
   "execution_count": 48,
   "id": "5543491e",
   "metadata": {},
   "outputs": [],
   "source": [
    "d = {'a': 10, 'b': 30}\n",
    "\n",
    "for key, val in d:\n",
    "    if key == 30:\n",
    "        return val"
   ]
  },
  {
   "cell_type": "code",
   "execution_count": 52,
   "id": "360eda20",
   "metadata": {},
   "outputs": [
    {
     "name": "stdout",
     "output_type": "stream",
     "text": [
      "[40]\n"
     ]
    }
   ],
   "source": [
    "lst = [10, 20, 40, 50]\n",
    "lst1 = [30, 40, 60]\n",
    "\n",
    "dups = [i for i in lst if i in lst1]\n",
    "print(dups)"
   ]
  },
  {
   "cell_type": "code",
   "execution_count": 55,
   "id": "5dc81b98",
   "metadata": {},
   "outputs": [
    {
     "name": "stdout",
     "output_type": "stream",
     "text": [
      "{40, 20, 30}\n"
     ]
    }
   ],
   "source": [
    "lst = [10, 20, 40, 50, 40, 40, 20, 30, 50, 10, 20]\n",
    "lst1 = [30, 40, 60, 60, 40, 20, 30, 30]\n",
    "\n",
    "set_lst = set(lst)\n",
    "set_lst1 = set(lst1)\n",
    "\n",
    "dups = [i for i in set_lst if i in set_lst1]\n",
    "print(dups)\n",
    "\n",
    "# d = dict(zip(lst, lst))\n",
    "# d1 = dict(zip(lst1, lst1))\n",
    " \n",
    "# print(d.keys() & d1.keys())"
   ]
  },
  {
   "cell_type": "code",
   "execution_count": 56,
   "id": "4014a3a6",
   "metadata": {},
   "outputs": [
    {
     "data": {
      "text/plain": [
       "200"
      ]
     },
     "execution_count": 56,
     "metadata": {},
     "output_type": "execute_result"
    }
   ],
   "source": [
    "a = 190\n",
    "b = 10\n",
    "\n",
    "def sumValues(a, b):\n",
    "    return a + b\n",
    "\n",
    "sum_values(a, b)"
   ]
  },
  {
   "cell_type": "code",
   "execution_count": 65,
   "id": "7bef9c85",
   "metadata": {},
   "outputs": [
    {
     "name": "stdout",
     "output_type": "stream",
     "text": [
      "None\n"
     ]
    }
   ],
   "source": [
    "# write a function to take in input a list and value  | check if value exists then return the value else null\n",
    "l = [10, 20, 30, 40]\n",
    "target = 50\n",
    "\n",
    "def valueExists(l: list, val):\n",
    "    if val in l:\n",
    "        return val\n",
    "    else:\n",
    "        return None\n",
    "    \n",
    "valueExists(l, target)"
   ]
  },
  {
   "cell_type": "code",
   "execution_count": 66,
   "id": "2a9d13a3",
   "metadata": {},
   "outputs": [
    {
     "data": {
      "text/plain": [
       "5"
      ]
     },
     "execution_count": 66,
     "metadata": {},
     "output_type": "execute_result"
    }
   ],
   "source": [
    "# Write a function to take input a list and check if list any any element if yes then retunr len of the list else Nll\n",
    "l = [1, 4, 7, 8, 9]\n",
    "\n",
    "def listElementsExists(l):\n",
    "    if len(l) > 0:\n",
    "        return len(l)\n",
    "    return None\n",
    "\n",
    "# def checkValueExistance(x:list, y):\n",
    "#      if y in x:\n",
    "#          return y\n",
    "# print(checkValueExistance([10,20],10))\n",
    "\n",
    "listElementsExists(l)"
   ]
  },
  {
   "cell_type": "code",
   "execution_count": 71,
   "id": "68770840",
   "metadata": {},
   "outputs": [
    {
     "data": {
      "text/plain": [
       "36"
      ]
     },
     "execution_count": 71,
     "metadata": {},
     "output_type": "execute_result"
    }
   ],
   "source": [
    "# 1. write a function to check element if it's divisible by 2\n",
    "# 2. call that function in another function to do a square and then return the value\n",
    "\n",
    "def squareVal(x):\n",
    "    return x**2\n",
    "\n",
    "def checkElement(x:int):\n",
    "    if x%2 == 0:\n",
    "        return squareVal(x)\n",
    "    else:\n",
    "        print(f'{x} not divisble by 2')\n",
    "        return None\n",
    "\n",
    "val = 6\n",
    "checkElement(val)"
   ]
  },
  {
   "cell_type": "code",
   "execution_count": 72,
   "id": "0c5b54be",
   "metadata": {},
   "outputs": [
    {
     "name": "stdout",
     "output_type": "stream",
     "text": [
      "6\n"
     ]
    }
   ],
   "source": [
    "x = lambda a, b, c: a + b + c\n",
    "print(x(1,2,3))"
   ]
  },
  {
   "cell_type": "code",
   "execution_count": 75,
   "id": "b7297507",
   "metadata": {},
   "outputs": [
    {
     "name": "stdout",
     "output_type": "stream",
     "text": [
      "{'mike': 3, 'ram': 2, 'bro': 1}\n"
     ]
    }
   ],
   "source": [
    "lst = ['mike', 'ram', 'mike', 'bro', 'ram', 'mike']\n",
    "dict1 = {}\n",
    "\n",
    "for i in set(lst):\n",
    "    dict1[i] = lst.count(i)\n",
    "    \n",
    "print(dict1)\n",
    "\n",
    "\n",
    "# dict2 = {}\n",
    "# s1 = 'football match'\n",
    "\n",
    "# s1_set = set(s1)\n",
    "# for i in s1_set:\n",
    "#     dict2[i] = s1.count(i)\n",
    "\n",
    "# print(dict2)"
   ]
  },
  {
   "cell_type": "code",
   "execution_count": null,
   "id": "b0dc768d",
   "metadata": {},
   "outputs": [],
   "source": []
  }
 ],
 "metadata": {
  "kernelspec": {
   "display_name": "Python 3 (ipykernel)",
   "language": "python",
   "name": "python3"
  },
  "language_info": {
   "codemirror_mode": {
    "name": "ipython",
    "version": 3
   },
   "file_extension": ".py",
   "mimetype": "text/x-python",
   "name": "python",
   "nbconvert_exporter": "python",
   "pygments_lexer": "ipython3",
   "version": "3.9.1"
  }
 },
 "nbformat": 4,
 "nbformat_minor": 5
}
