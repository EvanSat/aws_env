{
 "cells": [
  {
   "cell_type": "code",
   "execution_count": 2,
   "id": "d3e13463",
   "metadata": {},
   "outputs": [
    {
     "name": "stdout",
     "output_type": "stream",
     "text": [
      "Following query executed, closing connection | SELECT * FROM order_schema.order_with_cost\n",
      "1\n",
      "quantrix-create-bucket-test2 does not exist\n"
     ]
    }
   ],
   "source": [
    "from utils import db_connection\n",
    "from utils import s3_connection"
   ]
  },
  {
   "cell_type": "code",
   "execution_count": 16,
   "id": "fad7bb4f",
   "metadata": {},
   "outputs": [
    {
     "name": "stdout",
     "output_type": "stream",
     "text": [
      "Following query executed, closing connection | Create SCHEMA IF NOT EXISTS order_schema;\n",
      "Following query executed, closing connection | Create table if not exists order_schema.product_costs \n",
      "                                (product varchar(20),product_cost varchar(20));\n"
     ]
    },
    {
     "data": {
      "text/plain": [
       "1"
      ]
     },
     "execution_count": 16,
     "metadata": {},
     "output_type": "execute_result"
    }
   ],
   "source": [
    "# 1. Create  a file:\n",
    "# col:\n",
    "# product_name varchar(20),\n",
    "# manufacturingcost decimal(5,2)\n",
    "\n",
    "# For each product build record using python script.\n",
    "# 'iphon11','iphone12','iphone13','iphoneSE','IpadMax','IpadMini','laptop256','Macbook512',\n",
    "# 'galaxy10','galaxy11','galaxy12','galaxy13','watch320','watch340'\n",
    "# 'Nk320',''Nk400',''Nk500'\n",
    "\n",
    "# File example:\n",
    "# iphon11,220\n",
    "# iphone12,250\n",
    "# iphone13,290\n",
    "\n",
    "# Generate order information from gen_dummy_data.py\n",
    "\n",
    "# Create CSV for product cost\n",
    "\n",
    "import pandas as pd\n",
    "\n",
    "\n",
    "product_costs = {'iphone11': 800, 'iphone12': 900, 'iphone13': 950, 'iphoneSE': 700, 'IpadMax': 500, 'IpadMini': 400,\n",
    "\t\t\t\t 'laptop256': 1400, 'Macbook512': 1600, 'galaxy10': 800, 'galaxy11': 850, 'galaxy12': 875,\n",
    "\t\t\t\t 'galaxy13': 900, 'watch320': 249, 'watch340': 300, 'Nk320': 600, 'Nk400': 700, 'Nk500': 750}\n",
    "result = []\n",
    "for k, v in product_costs.items():\n",
    "\tresult.append((k, v))\n",
    "\n",
    "df = pd.DataFrame(result, columns=['product', 'product_cost'])\n",
    "df.to_csv('product_costs1.csv', index=False)\n",
    "\n",
    "\n",
    "# create a table in redshift also.-- table name product_cost\n",
    "from utils import db_connection\n",
    "\n",
    "db_connection.redshift_query('''Create SCHEMA IF NOT EXISTS order_schema;''')\n",
    "\n",
    "db_connection.redshift_query('''Create table if not exists order_schema.product_costs \n",
    "                                (product varchar(20),product_cost varchar(20));''')\n"
   ]
  },
  {
   "cell_type": "code",
   "execution_count": 5,
   "id": "1b2b2a20",
   "metadata": {},
   "outputs": [
    {
     "name": "stdout",
     "output_type": "stream",
     "text": [
      "quantrix-order-data bucket already exists\n"
     ]
    },
    {
     "data": {
      "text/plain": [
       "-1"
      ]
     },
     "execution_count": 5,
     "metadata": {},
     "output_type": "execute_result"
    }
   ],
   "source": [
    "# 2. Load data into s3 in separate folder (order data must be created earlier in class project 3).\n",
    "from utils import s3_connection\n",
    "\n",
    "s3_connection.s3_create_bucket('quantrix-order-data', 'us-east-2')\n",
    "\n",
    "# Done in AWS CLI\n",
    "# C:\\Users\\user>aws s3 cp \"C:\\FILEPATH\\order_data_20230113.csv\" s3://quantrix-order-data/raw/\n",
    "\n",
    "# C:\\Users\\user>aws s3 cp \"C:\\FILEPATH\\product_costs.csv\" s3://quantrix-order-data"
   ]
  },
  {
   "cell_type": "code",
   "execution_count": 17,
   "id": "8966f94c",
   "metadata": {},
   "outputs": [
    {
     "name": "stdout",
     "output_type": "stream",
     "text": [
      "Following query executed, closing connection | Create table if not exists order_schema.order_data (\n",
      "                                   order_id int,\n",
      "                                   brand_name varchar(20),\n",
      "                                   product_name varchar(20),\n",
      "                                   sales_amount decimal(9,2),\n",
      "                                   sales_date date\n",
      "                                )\n",
      "Following query executed, closing connection | copy order_schema.order_data from 's3://quantrix-order-data/raw/order_data_20230113.csv' \n",
      "                                iam_role 'arn:aws:iam::<USER>:role/<ROLE_NAME>'\n",
      "                                delimiter ','\n",
      "                                ignoreheader 1\n",
      "                                \n",
      "Following query executed, closing connection | copy order_schema.product_costs from 's3://quantrix-order-data/product_costs.csv' \n",
      "                                iam_role 'arn:aws:iam::<USER>:role/<ROLE_NAME>'\n",
      "                                delimiter ','\n",
      "                                ignoreheader 1\n",
      "                                \n"
     ]
    },
    {
     "data": {
      "text/plain": [
       "1"
      ]
     },
     "execution_count": 17,
     "metadata": {},
     "output_type": "execute_result"
    }
   ],
   "source": [
    "# 3. Use copy command  to load data into redshift by.\n",
    "\n",
    "# create table for the order data to populate | order_data and product_cost\n",
    "\n",
    "db_connection.redshift_query('''Create table if not exists order_schema.order_data (\n",
    "                                   order_id int,\n",
    "                                   brand_name varchar(20),\n",
    "                                   product_name varchar(20),\n",
    "                                   sales_amount decimal(9,2),\n",
    "                                   sales_date date\n",
    "                                )''')\n",
    "\n",
    "db_connection.redshift_query('''copy order_schema.order_data from 's3://quantrix-order-data/raw/order_data_20230113.csv' \n",
    "                                iam_role 'arn:aws:iam::<USER>:role/<ROLE_NAME>'\n",
    "                                delimiter ','\n",
    "                                ignoreheader 1\n",
    "                                ''')\n",
    "\n",
    "db_connection.redshift_query('''copy order_schema.product_costs from 's3://quantrix-order-data/product_costs.csv' \n",
    "                                iam_role 'arn:aws:iam::<USER>:role/<ROLE_NAME>'\n",
    "                                delimiter ','\n",
    "                                ignoreheader 1\n",
    "                                ''')\n",
    "\n"
   ]
  },
  {
   "cell_type": "code",
   "execution_count": 18,
   "id": "7d4a9975",
   "metadata": {},
   "outputs": [
    {
     "name": "stdout",
     "output_type": "stream",
     "text": [
      "Following query executed, closing connection | CREATE VIEW order_schema.order_with_cost as(\n",
      "    SELECT od.*, pc.product_cost as product_cost From order_schema.order_data od\n",
      "    JOIN order_schema.product_costs pc\n",
      "    ON od.product_name = pc.product\n",
      "    ) WITH NO SCHEMA BINDING\n",
      "    \n"
     ]
    },
    {
     "data": {
      "text/plain": [
       "1"
      ]
     },
     "execution_count": 18,
     "metadata": {},
     "output_type": "execute_result"
    }
   ],
   "source": [
    "# 4  create a view by joining order and product_cost.\n",
    "\n",
    "db_connection.redshift_query('''CREATE VIEW order_schema.order_with_cost as(\n",
    "    SELECT od.*, pc.product_cost as product_cost From order_schema.order_data od\n",
    "    JOIN order_schema.product_costs pc\n",
    "    ON od.product_name = pc.product\n",
    "    ) WITH NO SCHEMA BINDING\n",
    "    ''')"
   ]
  },
  {
   "cell_type": "code",
   "execution_count": 26,
   "id": "9d17c586",
   "metadata": {},
   "outputs": [
    {
     "name": "stdout",
     "output_type": "stream",
     "text": [
      "S3 Commands: \n",
      "\tlist_s3_buckets() | returns list of existing buckets in S3 \n",
      "\ts3_bucket_exists(bucket_name: string) | return bool showing existence of bucket in s3 \n",
      "\ts3_create_bucket(new_bucket_name: string, region_name: string *optional*) | creates new bucket \n",
      "\ts3_delete_bucket(bucket_name: string) | deletes selected bucket if exists\n",
      "quantrix-order-transformation bucket already exists\n"
     ]
    },
    {
     "data": {
      "text/plain": [
       "-1"
      ]
     },
     "execution_count": 26,
     "metadata": {},
     "output_type": "execute_result"
    }
   ],
   "source": [
    "# 5. Create a bucket using boto3 and then list the buckets (from the metadata). make sure the bucket exists else fail.\n",
    "\n",
    "from utils import s3_connection\n",
    "\n",
    "s3_connection.print_functions()\n",
    "\n",
    "s3_connection.s3_create_bucket('quantrix-order-transformation', 'us-east-2')"
   ]
  },
  {
   "cell_type": "code",
   "execution_count": 27,
   "id": "7314d7aa",
   "metadata": {},
   "outputs": [
    {
     "name": "stdout",
     "output_type": "stream",
     "text": [
      "Following query executed, closing connection | UNLOAD ('SELECT * from order_schema.order_with_cost')\n",
      "    to 's3://quantrix-order-transformation/unload_results/'\n",
      "    iam_role 'arn:aws:iam::<USER>:role/<ROLE_NAME>'\n",
      "    csv\n",
      "    header\n"
     ]
    },
    {
     "data": {
      "text/plain": [
       "1"
      ]
     },
     "execution_count": 27,
     "metadata": {},
     "output_type": "execute_result"
    }
   ],
   "source": [
    "# 6. Unload data from view into s3 bucket (this has to be separate bucket then created earlier) \n",
    "# buckets/transformation/vw_name/    (this has ot be a csv file with header)\n",
    "\n",
    "db_connection.redshift_query('''UNLOAD ('SELECT * from order_schema.order_with_cost')\n",
    "    to 's3://quantrix-order-transformation/unload_results/'\n",
    "    iam_role 'arn:aws:iam::<USER>:role/<ROLE_NAME>'\n",
    "    csv\n",
    "    header''')"
   ]
  },
  {
   "cell_type": "code",
   "execution_count": 29,
   "id": "677dcfbc",
   "metadata": {},
   "outputs": [
    {
     "name": "stdout",
     "output_type": "stream",
     "text": [
      "Following query executed, closing connection | CREATE VIEW order_schema.orders_with_profit as(\n",
      "    SELECT * From order_schema.order_with_cost\n",
      "    WHERE (sales_amount - product_cost) > 0\n",
      "    ) WITH NO SCHEMA BINDING\n"
     ]
    },
    {
     "data": {
      "text/plain": [
       "1"
      ]
     },
     "execution_count": 29,
     "metadata": {},
     "output_type": "execute_result"
    }
   ],
   "source": [
    "# 7. Create a new view by taking all the records where you have profit. Profit is sales amount -manufacturingcost. \n",
    "# So add all the fields from order table and cost from product_cost.\n",
    "\n",
    "db_connection.redshift_query('''CREATE VIEW order_schema.orders_with_profit as(\n",
    "    SELECT * From order_schema.order_with_cost\n",
    "    WHERE (sales_amount - product_cost) > 0\n",
    "    ) WITH NO SCHEMA BINDING''')"
   ]
  },
  {
   "cell_type": "code",
   "execution_count": 30,
   "id": "edce02a4",
   "metadata": {},
   "outputs": [
    {
     "name": "stdout",
     "output_type": "stream",
     "text": [
      "Following query executed, closing connection | CREATE VIEW order_schema.orders_with_profit_group as(\n",
      "    SELECT *, CASE WHEN (sales_amount/product_cost) > 1.1 THEN 'Bumper profit'\n",
      "\t\t\t\tWHEN (sales_amount/product_cost) >= 1 THEN 'Marginal profit'\n",
      "                WHEN (sales_amount/product_cost) >= .95 THEN 'Loss making'\n",
      "\t\t\t\tELSE 'Bumper Loss' END as profit_group\n",
      "\tFROM order_schema.order_with_cost\n",
      ") WITH NO SCHEMA BINDING\n"
     ]
    },
    {
     "data": {
      "text/plain": [
       "1"
      ]
     },
     "execution_count": 30,
     "metadata": {},
     "output_type": "execute_result"
    }
   ],
   "source": [
    "# 8. Create col as profit_group the values are [if profit percenatge is more 10% the \"Bumper profit\", \n",
    "#                                               0 to 10% then \"Marginal profit\",\n",
    "#                                               -5% to 0% then \"Loss making\",\n",
    "#                                               else \"Bumper Loss\"\n",
    "\n",
    "db_connection.redshift_query('''CREATE VIEW order_schema.orders_with_profit_group as(\n",
    "    SELECT *, CASE WHEN (sales_amount/product_cost) > 1.1 THEN 'Bumper profit'\n",
    "\t\t\t\tWHEN (sales_amount/product_cost) >= 1 THEN 'Marginal profit'\n",
    "                WHEN (sales_amount/product_cost) >= .95 THEN 'Loss making'\n",
    "\t\t\t\tELSE 'Bumper Loss' END as profit_group\n",
    "\tFROM order_schema.order_with_cost\n",
    ") WITH NO SCHEMA BINDING''')"
   ]
  },
  {
   "cell_type": "code",
   "execution_count": 31,
   "id": "f64d3d4b",
   "metadata": {},
   "outputs": [
    {
     "name": "stdout",
     "output_type": "stream",
     "text": [
      "Following query executed, closing connection | UNLOAD ('SELECT * from order_schema.orders_with_profit_group')\n",
      "    to 's3://quantrix-order-data/unload_with_profit_group/'\n",
      "    iam_role 'arn:aws:iam::<USER>:role/<ROLE_NAME>'\n",
      "    csv\n",
      "    header\n"
     ]
    },
    {
     "data": {
      "text/plain": [
       "1"
      ]
     },
     "execution_count": 31,
     "metadata": {},
     "output_type": "execute_result"
    }
   ],
   "source": [
    "# 9. Unload the view into a s3 file.\n",
    "\n",
    "db_connection.redshift_query('''UNLOAD ('SELECT * from order_schema.orders_with_profit_group')\n",
    "    to 's3://quantrix-order-data/unload_with_profit_group/'\n",
    "    iam_role 'arn:aws:iam::<USER>:role/<ROLE_NAME>'\n",
    "    csv\n",
    "    header''')"
   ]
  },
  {
   "cell_type": "code",
   "execution_count": 3,
   "id": "1d215330",
   "metadata": {},
   "outputs": [
    {
     "name": "stdout",
     "output_type": "stream",
     "text": [
      "Following query executed, closing connection | CREATE VIEW order_schema.orders_profit_by_yearmonth_brand as(\n",
      "    SELECT TO_CHAR(sales_date, 'YYYY-MM') AS year_month, brand_name, SUM(sales_amount-product_cost) as total_profit, RANK() OVER (ORDER BY total_profit DESC) as rank_highest_profit, \n",
      "        COUNT(1) as num_products_sold, RANK() Over(ORDER BY num_products_sold ASC) as rank_least_products_sold\n",
      "    FROM order_schema.order_with_cost\n",
      "    GROUP BY year_month, brand_name\n",
      "    ORDER BY year_month, brand_name\n",
      "    ) WITH NO SCHEMA BINDING\n"
     ]
    },
    {
     "data": {
      "text/plain": [
       "1"
      ]
     },
     "execution_count": 3,
     "metadata": {},
     "output_type": "execute_result"
    }
   ],
   "source": [
    "# 10. Create another view to show total profit by each brand_name,year-mth cd (ex:202201,202203). \n",
    "# Do a rank by the total profit (desc) and amount of product sold (Asc)\n",
    "\n",
    "db_connection.redshift_query('''CREATE VIEW order_schema.orders_profit_by_yearmonth_brand as(\n",
    "    SELECT TO_CHAR(sales_date, 'YYYY-MM') AS year_month, brand_name, SUM(sales_amount-product_cost) as total_profit, RANK() OVER (ORDER BY total_profit DESC) as rank_highest_profit, \n",
    "        COUNT(1) as num_products_sold, RANK() Over(ORDER BY num_products_sold ASC) as rank_least_products_sold\n",
    "    FROM order_schema.order_with_cost\n",
    "    GROUP BY year_month, brand_name\n",
    "    ORDER BY year_month, brand_name\n",
    "    ) WITH NO SCHEMA BINDING''')"
   ]
  },
  {
   "cell_type": "code",
   "execution_count": 33,
   "id": "6737739b",
   "metadata": {},
   "outputs": [
    {
     "name": "stdout",
     "output_type": "stream",
     "text": [
      "Following query executed, closing connection | UNLOAD ('SELECT * from order_schema.orders_profit_by_yearmonth_brand')\n",
      "    to 's3://quantrix-order-data/unload_profits_by_yearmonth_brand/'\n",
      "    iam_role 'arn:aws:iam::<USER>:role/<ROLE_NAME>'\n",
      "    delimiter '|'\n",
      "    csv\n",
      "    header\n"
     ]
    },
    {
     "data": {
      "text/plain": [
       "1"
      ]
     },
     "execution_count": 33,
     "metadata": {},
     "output_type": "execute_result"
    }
   ],
   "source": [
    "# 11. unload data to a CSV file wtih header and pipe delimited\n",
    "\n",
    "db_connection.redshift_query('''UNLOAD ('SELECT * from order_schema.orders_profit_by_yearmonth_brand')\n",
    "    to 's3://quantrix-order-data/unload_profits_by_yearmonth_brand/'\n",
    "    iam_role 'arn:aws:iam::<USER>:role/<ROLE_NAME>'\n",
    "    delimiter '|'\n",
    "    csv\n",
    "    header''')"
   ]
  },
  {
   "cell_type": "code",
   "execution_count": null,
   "id": "451d27f0",
   "metadata": {},
   "outputs": [],
   "source": []
  }
 ],
 "metadata": {
  "kernelspec": {
   "display_name": "Python 3 (ipykernel)",
   "language": "python",
   "name": "python3"
  },
  "language_info": {
   "codemirror_mode": {
    "name": "ipython",
    "version": 3
   },
   "file_extension": ".py",
   "mimetype": "text/x-python",
   "name": "python",
   "nbconvert_exporter": "python",
   "pygments_lexer": "ipython3",
   "version": "3.9.1"
  }
 },
 "nbformat": 4,
 "nbformat_minor": 5
}
