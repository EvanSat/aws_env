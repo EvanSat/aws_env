{
 "cells": [
  {
   "cell_type": "code",
   "execution_count": 4,
   "id": "fa0b661a",
   "metadata": {},
   "outputs": [
    {
     "name": "stdout",
     "output_type": "stream",
     "text": [
      "[10, 20, 20, 34, 55, 90]\n"
     ]
    }
   ],
   "source": [
    "# sort the list writing logic\n",
    "lst = [10, 20, 34, 55, 20, 90]\n",
    "\n",
    "for i in range(len(lst) - 1):\n",
    "    for j in range(i, len(lst) - 1):\n",
    "        if lst[i] > lst[j + 1]:\n",
    "            lst[i], lst[j+1] = lst[j + 1], lst[i]\n",
    "print(lst)"
   ]
  },
  {
   "cell_type": "code",
   "execution_count": 5,
   "id": "619c4661",
   "metadata": {},
   "outputs": [
    {
     "name": "stdout",
     "output_type": "stream",
     "text": [
      "{'l': 2, ' ': 1, 'c': 1, 'h': 1, 'f': 1, 'm': 1, 'o': 2, 'b': 1, 't': 2, 'a': 2}\n"
     ]
    }
   ],
   "source": [
    "# create a dictionary where key is the character in s1 and value is the number of times the character is in s1\n",
    "dict2 = {}\n",
    "s1 = 'football match'\n",
    "\n",
    "s1_set = set(s1)\n",
    "for i in s1_set:\n",
    "    dict2[i] = s1.count(i)\n",
    "\n",
    "print(dict2)"
   ]
  },
  {
   "cell_type": "code",
   "execution_count": 17,
   "id": "e42b122e",
   "metadata": {},
   "outputs": [
    {
     "name": "stdout",
     "output_type": "stream",
     "text": [
      "Both strings have the same identity\n"
     ]
    }
   ],
   "source": [
    "# 1.How would you confirm that 2 strings have the same identity?\n",
    "str1 = 'test string'\n",
    "str2 = 'test string'\n",
    "\n",
    "if str1 == str2:\n",
    "    print(f'Both strings have the same identity')\n",
    "else:\n",
    "    print(f'Both string do not have the same identity')"
   ]
  },
  {
   "cell_type": "code",
   "execution_count": 27,
   "id": "2e455602",
   "metadata": {},
   "outputs": [
    {
     "name": "stdout",
     "output_type": "stream",
     "text": [
      "True\n",
      "False\n"
     ]
    }
   ],
   "source": [
    "# 2.How would you check if each word in a string begins with a capital letter?\n",
    "str1 = 'All The Words Begin In Capital Letters'\n",
    "str2 = 'Some Words begin In captial Letters'\n",
    "\n",
    "def capital_check(s):\n",
    "    words = s.split()\n",
    "    \n",
    "    for word in words:\n",
    "        if not word.istitle():\n",
    "            return False\n",
    "        \n",
    "    return True\n",
    "\n",
    "print(capital_check(str1))\n",
    "print(capital_check(str2))"
   ]
  },
  {
   "cell_type": "code",
   "execution_count": 30,
   "id": "ce7d380d",
   "metadata": {},
   "outputs": [
    {
     "name": "stdout",
     "output_type": "stream",
     "text": [
      "Inserting \"test string\" using f string\n"
     ]
    }
   ],
   "source": [
    "# 3.What is an f-string and how do you use it?\n",
    "# can be used to add variables directly into the string format\n",
    "\n",
    "str1 = 'test string'\n",
    "\n",
    "print(f'Inserting \\\"{str1}\\\" using f string')"
   ]
  },
  {
   "cell_type": "code",
   "execution_count": 3,
   "id": "6667b4fd",
   "metadata": {},
   "outputs": [
    {
     "name": "stdout",
     "output_type": "stream",
     "text": [
      "dlrow olleh\n"
     ]
    }
   ],
   "source": [
    "# 4.Reverse the string “hello world”.\n",
    "str1 = 'hello world'\n",
    "print(str1[::-1])"
   ]
  },
  {
   "cell_type": "code",
   "execution_count": 33,
   "id": "147d49e1",
   "metadata": {},
   "outputs": [
    {
     "name": "stdout",
     "output_type": "stream",
     "text": [
      "-1\n"
     ]
    }
   ],
   "source": [
    "# 5.Word location in String\n",
    "\n",
    "test_str = 'This is a random sentence written on Jupyter notebook'\n",
    "target_word = 'note4book'\n",
    "\n",
    "def find_word_loc(word, s):\n",
    "    try:\n",
    "        index = s.find(word)\n",
    "    except ValueError:\n",
    "        print('Word not found')\n",
    "    \n",
    "    return index     # returns -1 if word is not located in string, else it locates index\n",
    "\n",
    "print(find_word_loc(target_word, test_str))\n"
   ]
  },
  {
   "cell_type": "code",
   "execution_count": 12,
   "id": "daac1103",
   "metadata": {},
   "outputs": [
    {
     "name": "stdout",
     "output_type": "stream",
     "text": [
      "yes\n"
     ]
    }
   ],
   "source": [
    "# 6.Test if string is subset of another\n",
    "str1 = 'bowling'\n",
    "str2 = 'bowl'\n",
    "\n",
    "if str2 in str1:\n",
    "    print('yes')\n",
    "else:\n",
    "    print('no')"
   ]
  },
  {
   "cell_type": "code",
   "execution_count": 36,
   "id": "1540eca0",
   "metadata": {},
   "outputs": [
    {
     "name": "stdout",
     "output_type": "stream",
     "text": [
      "[9, 2, 3, 4, 5, 6, 7, 8, 1]\n"
     ]
    }
   ],
   "source": [
    "# 7.Python program to interchange first and last elements in a list\n",
    "l = [1, 2, 3, 4, 5, 6, 7, 8, 9]\n",
    "\n",
    "def swap_ends(lst: list):\n",
    "    if len(lst) < 2:\n",
    "        return lst\n",
    "    \n",
    "    start = lst[0]\n",
    "    end = lst[-1]\n",
    "    \n",
    "    #swaps\n",
    "    lst[0] = end\n",
    "    lst[-1] = start\n",
    "    \n",
    "    return lst\n",
    "\n",
    "print(swap_ends(l))\n"
   ]
  },
  {
   "cell_type": "code",
   "execution_count": 7,
   "id": "a484a313",
   "metadata": {},
   "outputs": [
    {
     "name": "stdout",
     "output_type": "stream",
     "text": [
      "[1, 2, 3, 4, 5, 9, 7, 8, 6]\n",
      "Index selection out of range\n",
      "-1\n"
     ]
    }
   ],
   "source": [
    "# 8.Python program to swap two elements in a list\n",
    "l = [1, 2, 3, 4, 5, 6, 7, 8, 9]\n",
    "\n",
    "def element_swap(lst: list, idx1: int, idx2):\n",
    "    index_range = len(lst) - 1\n",
    "    if abs(idx1) > index_range or abs(idx2) > index_range:\n",
    "        print('Index selection out of range')\n",
    "        return -1\n",
    "    \n",
    "    first = lst[idx1]\n",
    "    second = lst[idx2]\n",
    "    \n",
    "    #swap\n",
    "    lst[idx1] = second\n",
    "    lst[idx2] = first\n",
    "    \n",
    "    return l\n",
    "\n",
    "print(element_swap(l, 5, 8))\n",
    "print(element_swap(l, 1, 9))\n"
   ]
  },
  {
   "cell_type": "code",
   "execution_count": 46,
   "id": "b5d00595",
   "metadata": {},
   "outputs": [
    {
     "name": "stdout",
     "output_type": "stream",
     "text": [
      "Total positive numbers are: 5 | Total negative numbers are: 3\n"
     ]
    }
   ],
   "source": [
    "# 9.Python program to count positive and negative numbers in a list\n",
    "l = [-1, 5, 7, -9, 3, 8, 31, -14, 0]\n",
    "\n",
    "def count_neg_and_pos(l):\n",
    "    total_neg = 0\n",
    "    total_pos = 0\n",
    "    \n",
    "    for i in range(0, len(l)):\n",
    "        if l[i] == 0:\n",
    "            break\n",
    "        elif l[i] > 0:\n",
    "            total_pos += 1\n",
    "        else:\n",
    "            total_neg += 1\n",
    "    \n",
    "    print(f'Total positive numbers are: {total_pos} | Total negative numbers are: {total_neg}')\n",
    "    \n",
    "count_neg_and_pos(l)"
   ]
  },
  {
   "cell_type": "code",
   "execution_count": 9,
   "id": "e01b244b",
   "metadata": {},
   "outputs": [
    {
     "name": "stdout",
     "output_type": "stream",
     "text": [
      "[(1, 4, 5), (4, 7), 5]\n"
     ]
    }
   ],
   "source": [
    "# 10.Python Program to remove empty tuples from a list\n",
    "lst = [(1, 4, 5), (), (4, 7), (5), ()]\n",
    "\n",
    "def rmv_empty_ele(l: list):\n",
    "    result = [x for x in l if x]\n",
    "    return result\n",
    "\n",
    "print(rmv_empty_ele(lst))"
   ]
  },
  {
   "cell_type": "code",
   "execution_count": 10,
   "id": "d4f4f44e",
   "metadata": {},
   "outputs": [
    {
     "name": "stdout",
     "output_type": "stream",
     "text": [
      "[2, 9, 15]\n"
     ]
    }
   ],
   "source": [
    "# 11.Program to print duplicates from a list of integers\n",
    "lst = [1, 2, 2, 6, 7, 8, 9, 9, 10, 11, 15, 15]\n",
    "\n",
    "def print_dups(l: list):\n",
    "    exists = []\n",
    "    duplicates = []\n",
    "    for i in lst:\n",
    "        if i in exists:\n",
    "            duplicates.append(i)\n",
    "        else:\n",
    "            exists.append(i)\n",
    "    \n",
    "    print(duplicates)\n",
    "\n",
    "print_dups(lst)"
   ]
  },
  {
   "cell_type": "code",
   "execution_count": 13,
   "id": "1e67d150",
   "metadata": {},
   "outputs": [
    {
     "data": {
      "text/plain": [
       "9"
      ]
     },
     "execution_count": 13,
     "metadata": {},
     "output_type": "execute_result"
    }
   ],
   "source": [
    "# 12.Program to count unique values inside a list\n",
    "lst = [1, 2, 2, 6, 7, 8, 9, 9, 10, 11, 15, 15]\n",
    "\n",
    "def unique_vals(l: list):\n",
    "    l_set = set(l)\n",
    "    return len(l_set)\n",
    "\n",
    "unique_vals(lst)\n"
   ]
  },
  {
   "cell_type": "code",
   "execution_count": 81,
   "id": "743ae8ab",
   "metadata": {},
   "outputs": [
    {
     "data": {
      "text/plain": [
       "[1, 5, 2, 6, 8, 2, 1, 1, 1, 9, 6, 5, 8, 8, 5, 2, 6, 8, 2, 9, 6, 5]"
      ]
     },
     "execution_count": 81,
     "metadata": {},
     "output_type": "execute_result"
    }
   ],
   "source": [
    "# 13.Python Program to Retain records with N occurrences of K | limit the number of occurances of a value\n",
    "# ex: if 2 exists in a list more than 4 times, we'll ignore any amount more than 4\n",
    "\n",
    "lst = [1, 5, 2, 6, 8, 2, 1, 1, 1, 9, 6, 5, 8, 8, 1, 5, 2, 6, 8, 2, 1, 1, 1, 9, 6, 5, 8, 8, 5, 5, 5, 5, 5, 5]\n",
    "\n",
    "def limit4_list(l: list):\n",
    "    new_lst = []\n",
    "    for i in lst:\n",
    "        if new_lst.count(i) < 4:\n",
    "            new_lst.append(i)\n",
    "    \n",
    "    return new_lst\n",
    "\n",
    "limit4_list(lst)\n",
    "\n"
   ]
  },
  {
   "cell_type": "code",
   "execution_count": 25,
   "id": "23830472",
   "metadata": {},
   "outputs": [
    {
     "data": {
      "text/plain": [
       "4"
      ]
     },
     "execution_count": 25,
     "metadata": {},
     "output_type": "execute_result"
    }
   ],
   "source": [
    "# 14.Find the size of a Dictionary in Python\n",
    "\n",
    "d = {'Name': 'Michael Johnson', 'Age': 35, 'Gender': 'M', 'Country': 'Canada'}\n",
    "\n",
    "def dict_size(d: dict):\n",
    "    return len(d)\n",
    "\n",
    "dict_size(d)"
   ]
  },
  {
   "cell_type": "code",
   "execution_count": 24,
   "id": "3a6926e3",
   "metadata": {},
   "outputs": [
    {
     "name": "stdout",
     "output_type": "stream",
     "text": [
      "{'Ford': 9, 'GMC': 9, 'Kia': 18, 'Audi': 3, 'BMW': 11, 'Dodge': 4}\n"
     ]
    }
   ],
   "source": [
    "# 15.Python Program to Merge two Dictionaries\n",
    "\n",
    "d1 = {'Ford': 5, 'GMC': 9, 'Kia': 18, 'Audi': 3}\n",
    "d2 = {'BMW': 11, 'Ford': 9, 'Dodge': 4}\n",
    "\n",
    "def dict_merge(dict1: dict, dict2: dict):\n",
    "    return dict1 | dict2\n",
    "\n",
    "print(dict_merge(d1, d2))\n"
   ]
  },
  {
   "cell_type": "code",
   "execution_count": 29,
   "id": "1400c219",
   "metadata": {},
   "outputs": [
    {
     "name": "stdout",
     "output_type": "stream",
     "text": [
      "{1: 4, 2: 2, 5: 2, 6: 2, 8: 3, 9: 1}\n"
     ]
    }
   ],
   "source": [
    "# 16.Program to Group Similar items to Dictionary Values List\n",
    "lst = [1, 5, 2, 6, 8, 2, 1, 1, 1, 9, 6, 5, 8, 8]\n",
    "d = {}\n",
    "\n",
    "def group_to_dict(l: list, d: dict = {}):\n",
    "    for i in set(l):\n",
    "        d[i] = l.count(i)\n",
    "    print(d)\n",
    "    \n",
    "group_to_dict(lst, d)"
   ]
  },
  {
   "cell_type": "code",
   "execution_count": 84,
   "id": "66c49cf2",
   "metadata": {},
   "outputs": [
    {
     "data": {
      "text/plain": [
       "35"
      ]
     },
     "execution_count": 84,
     "metadata": {},
     "output_type": "execute_result"
    }
   ],
   "source": [
    "# 17.Program Extract values of Particular Key in Nested Values\n",
    "\n",
    "d = {'Name': 'Michael Johnson', 'Age': 35, 'Gender': 'M', 'Country': 'Canada'}\n",
    "\n",
    "def get_val(d: dict, k: str):\n",
    "    return d[k]\n",
    "\n",
    "get_val(d, 'Age')"
   ]
  },
  {
   "cell_type": "code",
   "execution_count": 79,
   "id": "01398f3e",
   "metadata": {},
   "outputs": [
    {
     "name": "stdout",
     "output_type": "stream",
     "text": [
      "('Country', 'Canada')\n",
      "{'Name': 'Michael Johnson', 'Age': 35, 'Gender': 'M'}\n"
     ]
    }
   ],
   "source": [
    "**# 18.Program to Reverse Dictionary Keys Order\n",
    "\n",
    "d = {'Name': 'Michael Johnson', 'Age': 35, 'Gender': 'M', 'Country': 'Canada'}\n",
    "a ={}\n",
    "\n",
    "tempKV = d.popitem()\n",
    "print(tempKV)\n",
    "\n",
    "print(d)"
   ]
  },
  {
   "cell_type": "code",
   "execution_count": 87,
   "id": "ca3c04cf",
   "metadata": {},
   "outputs": [
    {
     "data": {
      "text/plain": [
       "[('E', 10), ('C', 9), ('B', 4), ('D', 3), ('F', 2), ('A', 1)]"
      ]
     },
     "execution_count": 87,
     "metadata": {},
     "output_type": "execute_result"
    }
   ],
   "source": [
    "# 19.Program to Sort Nested keys by Value\n",
    "\n",
    "d = {'A': 1, 'B': 4, 'C': 9, 'D': 3, 'E': 10, 'F': 2}\n",
    "\n",
    "def sort_keys(d: dict):\n",
    "    return sorted(d.items(), key=lambda x: x[1], reverse=True)\n",
    "\n",
    "sort_keys(d)"
   ]
  },
  {
   "cell_type": "code",
   "execution_count": 6,
   "id": "6af4a357",
   "metadata": {},
   "outputs": [
    {
     "data": {
      "text/plain": [
       "True"
      ]
     },
     "execution_count": 6,
     "metadata": {},
     "output_type": "execute_result"
    }
   ],
   "source": [
    "# 20.Python program to check if a given number is an Armstrong number\n",
    "\n",
    "num = 153\n",
    "\n",
    "def is_armstrong_num(x:int):\n",
    "    x_sum = 0\n",
    "    x_str = str(x)\n",
    "    x_len = len(x_str)\n",
    "    \n",
    "    for i in str(x):\n",
    "        x_sum += int(i)**x_len\n",
    "    \n",
    "    return x == x_sum\n",
    "\n",
    "is_armstrong_num(num)"
   ]
  },
  {
   "cell_type": "code",
   "execution_count": 39,
   "id": "cd6a0b5e",
   "metadata": {},
   "outputs": [
    {
     "name": "stdout",
     "output_type": "stream",
     "text": [
      "120\n"
     ]
    }
   ],
   "source": [
    "# 21.Write a program in Python to display the Factorial of a number. (implying the number is not negative)\n",
    "\n",
    "num = 5\n",
    "\n",
    "def factorial_of_input(n: int):\n",
    "    \n",
    "    if n == 0:\n",
    "        return 0\n",
    "    elif n < 1:\n",
    "        return -1\n",
    "    \n",
    "    total = n\n",
    "    for i in range(n-1):\n",
    "        total *= i+1\n",
    "    print(total)\n",
    "    \n",
    "factorial_of_input(num)\n",
    "        "
   ]
  },
  {
   "cell_type": "code",
   "execution_count": 42,
   "id": "33b056e5",
   "metadata": {},
   "outputs": [
    {
     "data": {
      "text/plain": [
       "'drowesrever'"
      ]
     },
     "execution_count": 42,
     "metadata": {},
     "output_type": "execute_result"
    }
   ],
   "source": [
    "# 22.Write a program in Python to reverse a word using loop.\n",
    "\n",
    "test_str = 'reverseword'\n",
    " \n",
    "def reverse_str(s: str):\n",
    "    str_len = len(s)\n",
    "    rev_lst = []\n",
    "    \n",
    "    for i in range(1, str_len + 1):\n",
    "         rev_lst.append(s[-i])\n",
    "    \n",
    "    result = ''.join(rev_lst)\n",
    "    return(result)\n",
    "    \n",
    "reverse_str(test_str)"
   ]
  },
  {
   "cell_type": "code",
   "execution_count": 64,
   "id": "4b963def",
   "metadata": {},
   "outputs": [
    {
     "data": {
      "text/plain": [
       "['B', 'E', 'F']"
      ]
     },
     "execution_count": 64,
     "metadata": {},
     "output_type": "execute_result"
    }
   ],
   "source": [
    "# 23.Write a program to fetch only even values from a dictionary using loop.\n",
    "\n",
    "d = {'A': 1, 'B': 4, 'C': 9, 'D': 3, 'E': 10, 'F': 2}\n",
    "\n",
    "def dict_even_vals(d: dict):\n",
    "    even_keys = []\n",
    "    for k, v in d.items():\n",
    "        if v%2 == 0:\n",
    "            even_keys.append(k)\n",
    "    return even_keys\n",
    "\n",
    "dict_even_vals(d)"
   ]
  },
  {
   "cell_type": "code",
   "execution_count": 101,
   "id": "b69ed7d7",
   "metadata": {},
   "outputs": [
    {
     "data": {
      "text/plain": [
       "81"
      ]
     },
     "execution_count": 101,
     "metadata": {},
     "output_type": "execute_result"
    }
   ],
   "source": [
    "# 24.Python program to find the power of a number using recursion.\n",
    "\n",
    "num = 9\n",
    "power = 2\n",
    "\n",
    "def pwr_num(n: int, pwr: int):\n",
    "    if pwr == 1:\n",
    "        return n\n",
    "    \n",
    "    n *= n\n",
    "    return(pwr_num(n, pwr-1))\n",
    "\n",
    "pwr_num(num, power)"
   ]
  },
  {
   "cell_type": "code",
   "execution_count": 4,
   "id": "80087fda",
   "metadata": {},
   "outputs": [
    {
     "data": {
      "text/plain": [
       "[(3, 5),\n",
       " (5, 7),\n",
       " (11, 13),\n",
       " (17, 19),\n",
       " (29, 31),\n",
       " (41, 43),\n",
       " (59, 61),\n",
       " (71, 73),\n",
       " (101, 103),\n",
       " (107, 109),\n",
       " (137, 139),\n",
       " (149, 151),\n",
       " (179, 181),\n",
       " (191, 193),\n",
       " (197, 199),\n",
       " (227, 229),\n",
       " (239, 241),\n",
       " (269, 271),\n",
       " (281, 283),\n",
       " (311, 313),\n",
       " (347, 349),\n",
       " (419, 421),\n",
       " (431, 433),\n",
       " (461, 463),\n",
       " (521, 523),\n",
       " (569, 571),\n",
       " (599, 601),\n",
       " (617, 619),\n",
       " (641, 643),\n",
       " (659, 661),\n",
       " (809, 811),\n",
       " (821, 823),\n",
       " (827, 829),\n",
       " (857, 859),\n",
       " (881, 883)]"
      ]
     },
     "execution_count": 4,
     "metadata": {},
     "output_type": "execute_result"
    }
   ],
   "source": [
    "# 25.Write a program to print twin primes less than 1000. \n",
    "# If two consecutive odd numbers are both prime then they are known as twin primes\n",
    "\n",
    "twin_prime_lst = []\n",
    "MAX_RANGE = 1000\n",
    "\n",
    "def twin_primes(rng: int):\n",
    "    before = 0\n",
    "    \n",
    "    for num in range(3, rng, 2):\n",
    "        for j in range(2, num):\n",
    "            if(num % j) == 0:\n",
    "                break\n",
    "        else:\n",
    "            if (num - before) == 2:\n",
    "                twin_prime_lst.append((before, num))\n",
    "            before = num\n",
    "    return twin_prime_lst\n",
    "\n",
    "twin_primes(MAX_RANGE)\n"
   ]
  },
  {
   "cell_type": "code",
   "execution_count": 5,
   "id": "1c0000d6",
   "metadata": {},
   "outputs": [
    {
     "data": {
      "text/plain": [
       "-125"
      ]
     },
     "execution_count": 5,
     "metadata": {},
     "output_type": "execute_result"
    }
   ],
   "source": [
    "# 26.Write a function that inputs a number and returns the product of digits of that number.\n",
    "\n",
    "num = -555\n",
    "\n",
    "def num_product(n: int):\n",
    "    if n == 0:\n",
    "        return -1    \n",
    "    \n",
    "    n_str = str(n)\n",
    "    n_sign = 1\n",
    "    product = 1\n",
    "    \n",
    "    if n < 0:\n",
    "        n_sign = -1\n",
    "        n_str = n_str[1:]\n",
    "    \n",
    "    for i in n_str:\n",
    "        product *= int(i)\n",
    "    \n",
    "    product *= n_sign\n",
    "    \n",
    "    return product\n",
    "\n",
    "num_product(num)\n",
    "        "
   ]
  },
  {
   "cell_type": "code",
   "execution_count": 63,
   "id": "8d4c0679",
   "metadata": {},
   "outputs": [
    {
     "data": {
      "text/plain": [
       "[4, 5, 6, 7, 8]"
      ]
     },
     "execution_count": 63,
     "metadata": {},
     "output_type": "execute_result"
    }
   ],
   "source": [
    "# 27.Get last N elements from given list in Python\n",
    "\n",
    "lst = [1, 2, 3, 4, 5, 6, 7, 8]\n",
    "NthElement = 5\n",
    "\n",
    "def last_nth_ele(l: list, n: int):\n",
    "    lst_len = len(l)\n",
    "    \n",
    "    if n > lst_len:\n",
    "        print('Nth element is greater than length of list')\n",
    "        return -1\n",
    "      \n",
    "    result = []\n",
    "    for i in range(lst_len - n, lst_len):\n",
    "        result.append(l[i])\n",
    "\n",
    "    return result\n",
    "        \n",
    "last_nth_ele(lst, NthElement)"
   ]
  },
  {
   "cell_type": "code",
   "execution_count": 54,
   "id": "c5dbe166",
   "metadata": {},
   "outputs": [],
   "source": [
    "# 28.Check if two given Strings are Isomorphic to each other\n"
   ]
  },
  {
   "cell_type": "code",
   "execution_count": 55,
   "id": "b30393b3",
   "metadata": {},
   "outputs": [],
   "source": [
    "# 29.Python Program to Remove Consecutive K element records"
   ]
  },
  {
   "cell_type": "code",
   "execution_count": 14,
   "id": "bde652e3",
   "metadata": {},
   "outputs": [
    {
     "data": {
      "text/plain": [
       "[20, 40, 50, 50, 50, 40, 40, 50, 50, 50, 20]"
      ]
     },
     "execution_count": 14,
     "metadata": {},
     "output_type": "execute_result"
    }
   ],
   "source": [
    "# 30.Python program to find the Strongest Neighbour\n",
    "\n",
    "lst = [10, 20, 40, 50, 40, 40, 20, 30, 50, 10, 20]\n",
    "\n",
    "def find_strongest_neighbor(l: list):\n",
    "    strongest_neighbors = []\n",
    "    \n",
    "    for i in range(len(l)):\n",
    "        if i == 0:\n",
    "            strongest_neighbors.append(max(l[i], l[i+1]))\n",
    "        elif i == len(lst) - 1:\n",
    "            strongest_neighbors.append(max(l[i], l[i-1]))\n",
    "        else:\n",
    "            strongest_neighbors.append(max(l[i-1], l[i], l[i+1]))\n",
    "        \n",
    "    return strongest_neighbors\n",
    "\n",
    "find_strongest_neighbor(lst)"
   ]
  },
  {
   "cell_type": "code",
   "execution_count": 11,
   "id": "5543491e",
   "metadata": {},
   "outputs": [
    {
     "name": "stdout",
     "output_type": "stream",
     "text": [
      "30\n"
     ]
    }
   ],
   "source": [
    "d = {'a': 10, 'b': 30, 'c': 11}\n",
    "\n",
    "for key, val in d.items():\n",
    "    if key == 'b':\n",
    "        print(val)"
   ]
  },
  {
   "cell_type": "code",
   "execution_count": 52,
   "id": "360eda20",
   "metadata": {},
   "outputs": [
    {
     "name": "stdout",
     "output_type": "stream",
     "text": [
      "[40]\n"
     ]
    }
   ],
   "source": [
    "lst = [10, 20, 40, 50]\n",
    "lst1 = [30, 40, 60]\n",
    "\n",
    "dups = [i for i in lst if i in lst1]\n",
    "print(dups)"
   ]
  },
  {
   "cell_type": "code",
   "execution_count": 55,
   "id": "5dc81b98",
   "metadata": {},
   "outputs": [
    {
     "name": "stdout",
     "output_type": "stream",
     "text": [
      "{40, 20, 30}\n"
     ]
    }
   ],
   "source": [
    "lst = [10, 20, 40, 50, 40, 40, 20, 30, 50, 10, 20]\n",
    "lst1 = [30, 40, 60, 60, 40, 20, 30, 30]\n",
    "\n",
    "set_lst = set(lst)\n",
    "set_lst1 = set(lst1)\n",
    "\n",
    "dups = [i for i in set_lst if i in set_lst1]\n",
    "print(dups)\n",
    "\n",
    "# d = dict(zip(lst, lst))\n",
    "# d1 = dict(zip(lst1, lst1))\n",
    " \n",
    "# print(d.keys() & d1.keys())"
   ]
  },
  {
   "cell_type": "code",
   "execution_count": 56,
   "id": "4014a3a6",
   "metadata": {},
   "outputs": [
    {
     "data": {
      "text/plain": [
       "200"
      ]
     },
     "execution_count": 56,
     "metadata": {},
     "output_type": "execute_result"
    }
   ],
   "source": [
    "a = 190\n",
    "b = 10\n",
    "\n",
    "def sumValues(a, b):\n",
    "    return a + b\n",
    "\n",
    "sum_values(a, b)"
   ]
  },
  {
   "cell_type": "code",
   "execution_count": 65,
   "id": "7bef9c85",
   "metadata": {},
   "outputs": [
    {
     "name": "stdout",
     "output_type": "stream",
     "text": [
      "None\n"
     ]
    }
   ],
   "source": [
    "# write a function to take in input a list and value  | check if value exists then return the value else null\n",
    "l = [10, 20, 30, 40]\n",
    "target = 50\n",
    "\n",
    "def valueExists(l: list, val):\n",
    "    if val in l:\n",
    "        return val\n",
    "    else:\n",
    "        return None\n",
    "    \n",
    "valueExists(l, target)"
   ]
  },
  {
   "cell_type": "code",
   "execution_count": 66,
   "id": "2a9d13a3",
   "metadata": {},
   "outputs": [
    {
     "data": {
      "text/plain": [
       "5"
      ]
     },
     "execution_count": 66,
     "metadata": {},
     "output_type": "execute_result"
    }
   ],
   "source": [
    "# Write a function to take input a list and check if list any any element if yes then retunr len of the list else Nll\n",
    "l = [1, 4, 7, 8, 9]\n",
    "\n",
    "def listElementsExists(l):\n",
    "    if len(l) > 0:\n",
    "        return len(l)\n",
    "    return None\n",
    "\n",
    "# def checkValueExistance(x:list, y):\n",
    "#      if y in x:\n",
    "#          return y\n",
    "# print(checkValueExistance([10,20],10))\n",
    "\n",
    "listElementsExists(l)"
   ]
  },
  {
   "cell_type": "code",
   "execution_count": 2,
   "id": "68770840",
   "metadata": {},
   "outputs": [
    {
     "data": {
      "text/plain": [
       "36"
      ]
     },
     "execution_count": 2,
     "metadata": {},
     "output_type": "execute_result"
    }
   ],
   "source": [
    "# 1. write a function to check element if it's divisible by 2\n",
    "# 2. call that function in another function to do a square and then return the value\n",
    "\n",
    "def squareVal(x):\n",
    "    return x**2\n",
    "\n",
    "def checkElement(x:int):\n",
    "    if x%2 == 0:\n",
    "        return squareVal(x)\n",
    "    else:\n",
    "        print(f'{x} not divisble by 2')\n",
    "        return None\n",
    "\n",
    "val = 6\n",
    "checkElement(val)"
   ]
  },
  {
   "cell_type": "code",
   "execution_count": 72,
   "id": "0c5b54be",
   "metadata": {},
   "outputs": [
    {
     "name": "stdout",
     "output_type": "stream",
     "text": [
      "6\n"
     ]
    }
   ],
   "source": [
    "x = lambda a, b, c: a + b + c\n",
    "print(x(1,2,3))"
   ]
  },
  {
   "cell_type": "code",
   "execution_count": 1,
   "id": "b7297507",
   "metadata": {},
   "outputs": [
    {
     "name": "stdout",
     "output_type": "stream",
     "text": [
      "{'bro': 1, 'ram': 2, 'mike': 3}\n"
     ]
    }
   ],
   "source": [
    "lst = ['mike', 'ram', 'mike', 'bro', 'ram', 'mike']\n",
    "dict1 = {}\n",
    "\n",
    "for i in set(lst):\n",
    "    dict1[i] = lst.count(i)\n",
    "    \n",
    "print(dict1)\n",
    "\n",
    "\n",
    "# dict2 = {}\n",
    "# s1 = 'football match'\n",
    "\n",
    "# s1_set = set(s1)\n",
    "# for i in s1_set:\n",
    "#     dict2[i] = s1.count(i)\n",
    "\n",
    "# print(dict2)"
   ]
  },
  {
   "cell_type": "code",
   "execution_count": 1,
   "id": "b0dc768d",
   "metadata": {},
   "outputs": [
    {
     "ename": "ModuleNotFoundError",
     "evalue": "No module named 'pandas'",
     "output_type": "error",
     "traceback": [
      "\u001b[1;31m---------------------------------------------------------------------------\u001b[0m",
      "\u001b[1;31mModuleNotFoundError\u001b[0m                       Traceback (most recent call last)",
      "Cell \u001b[1;32mIn[1], line 1\u001b[0m\n\u001b[1;32m----> 1\u001b[0m \u001b[38;5;28;01mfrom\u001b[39;00m \u001b[38;5;21;01mutils\u001b[39;00m \u001b[38;5;28;01mimport\u001b[39;00m db_connect\n\u001b[0;32m      3\u001b[0m query \u001b[38;5;241m=\u001b[39m \u001b[38;5;124m\"\u001b[39m\u001b[38;5;124mSELECT d.dname, e.* FROM (SELECT *, DENSE_RANK() OVER(PARTITION BY deptno ORDER BY sal DESC) as sal_rank FROM quantrix_schema.emp) e JOIN quantrix_schema.dept d ON e.deptno = d.dptno WHERE e.sal_rank = 2\u001b[39m\u001b[38;5;124m\"\u001b[39m\n\u001b[0;32m      4\u001b[0m db_connect\u001b[38;5;241m.\u001b[39msql_query(query)\n",
      "File \u001b[1;32m~\\Documents\\GitHub\\aws_env\\python\\utils\\db_connect.py:2\u001b[0m\n\u001b[0;32m      1\u001b[0m \u001b[38;5;28;01mimport\u001b[39;00m \u001b[38;5;21;01mpsycopg2\u001b[39;00m\n\u001b[1;32m----> 2\u001b[0m \u001b[38;5;28;01mimport\u001b[39;00m \u001b[38;5;21;01mpandas\u001b[39;00m \u001b[38;5;28;01mas\u001b[39;00m \u001b[38;5;21;01mpd\u001b[39;00m\n\u001b[0;32m      3\u001b[0m \u001b[38;5;28;01mfrom\u001b[39;00m \u001b[38;5;21;01mconfig\u001b[39;00m \u001b[38;5;28;01mimport\u001b[39;00m db_config \u001b[38;5;28;01mas\u001b[39;00m db_cfg\n\u001b[0;32m      4\u001b[0m \u001b[38;5;28;01mimport\u001b[39;00m \u001b[38;5;21;01mdatetime\u001b[39;00m\n",
      "\u001b[1;31mModuleNotFoundError\u001b[0m: No module named 'pandas'"
     ]
    }
   ],
   "source": [
    "from utils import db_connect\n",
    "\n",
    "query = \"SELECT d.dname, e.* FROM (SELECT *, DENSE_RANK() OVER(PARTITION BY deptno ORDER BY sal DESC) as sal_rank FROM quantrix_schema.emp) e JOIN quantrix_schema.dept d ON e.deptno = d.dptno WHERE e.sal_rank = 2\"\n",
    "db_connect.sql_query(query)"
   ]
  },
  {
   "cell_type": "code",
   "execution_count": null,
   "id": "bc8f4b4f",
   "metadata": {},
   "outputs": [],
   "source": []
  },
  {
   "cell_type": "code",
   "execution_count": null,
   "id": "a244ea86",
   "metadata": {},
   "outputs": [],
   "source": []
  }
 ],
 "metadata": {
  "kernelspec": {
   "display_name": "Python 3 (ipykernel)",
   "language": "python",
   "name": "python3"
  },
  "language_info": {
   "codemirror_mode": {
    "name": "ipython",
    "version": 3
   },
   "file_extension": ".py",
   "mimetype": "text/x-python",
   "name": "python",
   "nbconvert_exporter": "python",
   "pygments_lexer": "ipython3",
   "version": "3.9.1"
  }
 },
 "nbformat": 4,
 "nbformat_minor": 5
}
