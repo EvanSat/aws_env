{
 "cells": [
  {
   "cell_type": "code",
   "execution_count": 11,
   "id": "f2e1a660",
   "metadata": {},
   "outputs": [
    {
     "name": "stdout",
     "output_type": "stream",
     "text": [
      "Generating 50000 record(s) | id, brand, product, sales ammount, sales date\n"
     ]
    }
   ],
   "source": [
    "from utils import db_connect\n",
    "\n",
    "db_connect.generate_dummy_csv(50000, 'test_data.csv')\n",
    "# import sys\n",
    "# print(sys.executable) "
   ]
  },
  {
   "cell_type": "code",
   "execution_count": null,
   "id": "dee67ea3",
   "metadata": {},
   "outputs": [],
   "source": []
  }
 ],
 "metadata": {
  "kernelspec": {
   "display_name": "Python 3 (ipykernel)",
   "language": "python",
   "name": "python3"
  },
  "language_info": {
   "codemirror_mode": {
    "name": "ipython",
    "version": 3
   },
   "file_extension": ".py",
   "mimetype": "text/x-python",
   "name": "python",
   "nbconvert_exporter": "python",
   "pygments_lexer": "ipython3",
   "version": "3.9.1"
  }
 },
 "nbformat": 4,
 "nbformat_minor": 5
}
